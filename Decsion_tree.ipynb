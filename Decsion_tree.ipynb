weather = input("Is it raining outside? (Yes/No): ")

if weather.lower() == "yes":
    print("Grab an umbrella and wear a raincoat.")
else:
    temp = input("Is it hot outside? (Yes/No): ")
    if temp.lower() == "yes":
        print("Wear shorts and a t-shirt.")
    else:
        print("Wear jeans and a sweater.")
