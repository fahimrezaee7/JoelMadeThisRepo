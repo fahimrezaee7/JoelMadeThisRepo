{
  "nbformat": 4,
  "nbformat_minor": 0,
  "metadata": {
    "colab": {
      "provenance": [],
      "authorship_tag": "ABX9TyNQgKi8xo97/UjNvGF/7tHv",
      "include_colab_link": true
    },
    "kernelspec": {
      "name": "python3",
      "display_name": "Python 3"
    },
    "language_info": {
      "name": "python"
    }
  },
  "cells": [
    {
      "cell_type": "markdown",
      "metadata": {
        "id": "view-in-github",
        "colab_type": "text"
      },
      "source": [
        "<a href=\"https://colab.research.google.com/github/fahimrezaee7/JoelMadeThisRepo/blob/master/Untitled3.ipynb\" target=\"_parent\"><img src=\"https://colab.research.google.com/assets/colab-badge.svg\" alt=\"Open In Colab\"/></a>"
      ]
    },
    {
      "cell_type": "code",
      "execution_count": 1,
      "metadata": {
        "colab": {
          "base_uri": "https://localhost:8080/"
        },
        "id": "U8nixsRnB-Qd",
        "outputId": "12b451b8-8eef-44ea-db6f-59c12185b216"
      },
      "outputs": [
        {
          "output_type": "stream",
          "name": "stdout",
          "text": [
            "Is it raining outside? (Yes/No): No\n",
            "Is it hot outside? (Yes/No): Yes\n",
            "Wear shorts and a t-shirt.\n"
          ]
        }
      ],
      "source": [
        "weather = input(\"Is it raining outside? (Yes/No): \")\n",
        "\n",
        "if weather.lower() == \"yes\":\n",
        "    print(\"Grab an umbrella and wear a raincoat.\")\n",
        "else:\n",
        "    temp = input(\"Is it hot outside? (Yes/No): \")\n",
        "    if temp.lower() == \"yes\":\n",
        "        print(\"Wear shorts and a t-shirt.\")\n",
        "    else:\n",
        "        print(\"Wear jeans and a sweater.\")"
      ]
    }
  ]
}